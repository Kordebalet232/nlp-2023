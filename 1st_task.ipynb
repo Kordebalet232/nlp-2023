{
 "cells": [
  {
   "cell_type": "markdown",
   "metadata": {},
   "source": [
    "Первое задание"
   ]
  },
  {
   "cell_type": "markdown",
   "metadata": {},
   "source": [
    "Загружаем тексты"
   ]
  },
  {
   "cell_type": "code",
   "execution_count": 1,
   "metadata": {},
   "outputs": [],
   "source": [
    "import gzip\n",
    "\n",
    "from dataclasses import dataclass\n",
    "from typing import Iterator\n",
    "\n",
    "@dataclass\n",
    "class Text:\n",
    "    label: str\n",
    "    title: str\n",
    "    text: str\n",
    "\n",
    "\n",
    "def read_texts(fn: str) -> Iterator[Text]:\n",
    "    with gzip.open(fn, \"rt\", encoding=\"utf-8\") as f:\n",
    "        for line in f:\n",
    "            yield Text(*line.strip().split(\"\\t\"))\n",
    "\n",
    "texts = list(read_texts(\"data/news.txt.gz\"))\n"
   ]
  },
  {
   "cell_type": "code",
   "execution_count": 2,
   "metadata": {},
   "outputs": [],
   "source": [
    "from yargy import Parser, rule, and_, or_\n",
    "from yargy.predicates import gram, gte, lte, is_capitalized\n",
    "from yargy.pipelines import morph_pipeline\n",
    "from yargy.interpretation import fact\n",
    "from yargy.relations import gnc_relation\n",
    "\n",
    "ENTRY = fact(\"Entry\", [\"full_name\", \"birthday\", \"birth_place\"])\n",
    "NAME = fact(\"Name\", [\"first\", \"last\", \"patronimic\"])\n",
    "BIRTHDAY = fact(\"date\", [\"d\", \"m\", \"y\"])\n",
    "BIRTH_PLACE = fact(\"Birth_place\", [\"place\"])\n",
    "\n",
    "\n",
    "DAY = and_(gte(1), lte(31)) # >= 1 и <=31\n",
    "MONTH = morph_pipeline([\"Январь\", \"Февраль\", \"Март\", \"Апрель\", \"Май\", \"Июнь\", \"Июль\", \"Август\", \"Сентябрь\", \"Октябрь\", \"Ноябрь\", \"Декабрь\"])\n",
    "YEAR = and_(gte(1), lte(2024)) # >= 1 и <= 2024\n",
    "\n",
    "# Немного учтем возможность разного порядка написания ФИО\n",
    "\n",
    "name_surn_patr = rule(\n",
    "    gram(\"Name\").interpretation(NAME.first.inflected()),\n",
    "    gram(\"Surn\").interpretation(NAME.last.inflected()),\n",
    "    gram(\"Patr\").interpretation(NAME.patronimic.inflected()).optional()\n",
    ").interpretation(NAME)\n",
    "\n",
    "surn_name_patr = rule(\n",
    "    gram(\"Surn\").interpretation(NAME.last.inflected()),\n",
    "    gram(\"Name\").interpretation(NAME.first.inflected()),\n",
    "    gram(\"Patr\").interpretation(NAME.patronimic.inflected()).optional()\n",
    ").interpretation(NAME)\n",
    "\n",
    "birthday_words = rule(\n",
    "    DAY.interpretation(BIRTHDAY.d).optional(),\n",
    "    MONTH.interpretation(BIRTHDAY.m).optional(),\n",
    "    morph_pipeline([\"в\"]).optional(),\n",
    "    YEAR.interpretation(BIRTHDAY.y).optional(),\n",
    "    morph_pipeline([\"Году\"]).optional()\n",
    ").interpretation(BIRTHDAY).optional()\n",
    "\n",
    "birthday_nums = rule(\n",
    "    DAY.interpretation(BIRTHDAY.d).optional(),\n",
    "    '.',\n",
    "    and_(gte(1), lte(12)).interpretation(BIRTHDAY.m).optional(),\n",
    "    '.',\n",
    "    YEAR.interpretation(BIRTHDAY.y).optional(),\n",
    "    morph_pipeline([\"Года\"]).optional()\n",
    ").interpretation(BIRTHDAY).optional()\n",
    "\n",
    "birth_place = rule(\n",
    "    morph_pipeline([\"в\"]),\n",
    "    is_capitalized().interpretation(BIRTH_PLACE.place).optional()\n",
    ").interpretation(BIRTH_PLACE).optional()\n",
    "\n",
    "entry = rule(\n",
    "    or_(\n",
    "    name_surn_patr.interpretation(ENTRY.full_name),\n",
    "    surn_name_patr.interpretation(ENTRY.full_name)\n",
    "    ),\n",
    "    morph_pipeline([\"Родился\", \"был рожден\", \"появился на свет\"]),\n",
    "\n",
    "    # Так как могут идти в любом порядке\n",
    "\n",
    "    or_(\n",
    "        or_(\n",
    "            birthday_nums.interpretation(ENTRY.birthday),\n",
    "            birthday_words.interpretation(ENTRY.birthday),\n",
    "        ),\n",
    "        birth_place.interpretation(ENTRY.birth_place)\n",
    "    ),\n",
    "    or_(\n",
    "        or_(\n",
    "             birthday_nums.interpretation(ENTRY.birthday),\n",
    "            birthday_words.interpretation(ENTRY.birthday),\n",
    "        ),\n",
    "        birth_place.interpretation(ENTRY.birth_place)\n",
    "    )\n",
    ").interpretation(ENTRY)\n",
    "\n",
    "parser = Parser(entry)\n"
   ]
  },
  {
   "cell_type": "code",
   "execution_count": 3,
   "metadata": {},
   "outputs": [
    {
     "name": "stdout",
     "output_type": "stream",
     "text": [
      "Entry(full_name=Name(first='иван', last='иванов', patronimic='иванович'), birthday=date(d='18', m='01', y='1978'), birth_place=Birth_place(place='Белграде'))\n"
     ]
    }
   ],
   "source": [
    "text = \"Иванов Иван Иванович родился 18.01.1978 в Белграде\"\n",
    "\n",
    "for match in parser.findall(text):\n",
    "    print(match.fact)"
   ]
  },
  {
   "cell_type": "code",
   "execution_count": 4,
   "metadata": {},
   "outputs": [
    {
     "name": "stdout",
     "output_type": "stream",
     "text": [
      "Entry(full_name=Name(first='иван', last='иванов', patronimic='иванович'), birthday=date(d='18', m='января', y='1978'), birth_place=Birth_place(place='Белграде'))\n"
     ]
    }
   ],
   "source": [
    "text = \"Иванов Иван Иванович родился 18 января 1978 года в Белграде\"\n",
    "\n",
    "for match in parser.findall(text):\n",
    "    print(match.fact)"
   ]
  },
  {
   "cell_type": "code",
   "execution_count": 3,
   "metadata": {},
   "outputs": [
    {
     "name": "stderr",
     "output_type": "stream",
     "text": [
      "  0%|          | 0/10000 [00:00<?, ?it/s]"
     ]
    },
    {
     "name": "stderr",
     "output_type": "stream",
     "text": [
      "  4%|▍         | 436/10000 [00:18<06:29, 24.58it/s]"
     ]
    },
    {
     "name": "stdout",
     "output_type": "stream",
     "text": [
      "Entry(full_name=Name(first='андрей', last='курносенко', patronimic=None), birthday=None, birth_place=Birth_place(place='Севастополе'))\n"
     ]
    },
    {
     "name": "stderr",
     "output_type": "stream",
     "text": [
      "  5%|▌         | 544/10000 [00:23<05:44, 27.47it/s]"
     ]
    },
    {
     "name": "stdout",
     "output_type": "stream",
     "text": [
      "Entry(full_name=Name(first='иосиф', last='кобзон', patronimic=None), birthday=date(d=None, m=None, y=None), birth_place=None)\n"
     ]
    },
    {
     "name": "stderr",
     "output_type": "stream",
     "text": [
      " 11%|█         | 1074/10000 [00:48<06:07, 24.27it/s]"
     ]
    },
    {
     "name": "stdout",
     "output_type": "stream",
     "text": [
      "Entry(full_name=Name(first='анна', last='матисон', patronimic=None), birthday=None, birth_place=None)\n"
     ]
    },
    {
     "name": "stderr",
     "output_type": "stream",
     "text": [
      " 18%|█▊        | 1841/10000 [01:25<06:58, 19.51it/s]"
     ]
    },
    {
     "name": "stdout",
     "output_type": "stream",
     "text": [
      "Entry(full_name=Name(first='яковлевюрий', last='яковлев', patronimic=None), birthday=date(d=None, m=None, y='1928'), birth_place=Birth_place(place='Москве'))\n"
     ]
    },
    {
     "name": "stderr",
     "output_type": "stream",
     "text": [
      " 25%|██▌       | 2522/10000 [01:59<05:09, 24.16it/s]"
     ]
    },
    {
     "name": "stdout",
     "output_type": "stream",
     "text": [
      "Entry(full_name=Name(first='николай', last='караченцов', patronimic=None), birthday=date(d='27', m='октября', y='1944'), birth_place=Birth_place(place='Москве'))\n"
     ]
    },
    {
     "name": "stderr",
     "output_type": "stream",
     "text": [
      " 30%|██▉       | 2997/10000 [02:21<05:23, 21.67it/s]"
     ]
    },
    {
     "name": "stdout",
     "output_type": "stream",
     "text": [
      "Entry(full_name=Name(first='сергей', last='довлатов', patronimic=None), birthday=date(d=None, m=None, y='1941'), birth_place=None)\n"
     ]
    },
    {
     "name": "stderr",
     "output_type": "stream",
     "text": [
      " 33%|███▎      | 3295/10000 [02:36<04:40, 23.92it/s]"
     ]
    },
    {
     "name": "stdout",
     "output_type": "stream",
     "text": [
      "Entry(full_name=Name(first='аня', last='титов', patronimic=None), birthday=date(d=None, m=None, y='1984'), birth_place=None)\n"
     ]
    },
    {
     "name": "stderr",
     "output_type": "stream",
     "text": [
      " 38%|███▊      | 3783/10000 [03:00<03:58, 26.04it/s]"
     ]
    },
    {
     "name": "stdout",
     "output_type": "stream",
     "text": [
      "Entry(full_name=Name(first='игорь', last='доценко', patronimic=None), birthday=date(d=None, m=None, y='1953'), birth_place=Birth_place(place='Хмельницкой'))\n"
     ]
    },
    {
     "name": "stderr",
     "output_type": "stream",
     "text": [
      " 39%|███▉      | 3904/10000 [03:06<04:03, 25.01it/s]"
     ]
    },
    {
     "name": "stdout",
     "output_type": "stream",
     "text": [
      "Entry(full_name=Name(first='андрей', last='сердюков', patronimic=None), birthday=date(d=None, m=None, y='1962'), birth_place=None)\n"
     ]
    },
    {
     "name": "stderr",
     "output_type": "stream",
     "text": [
      " 39%|███▉      | 3940/10000 [03:08<05:09, 19.60it/s]"
     ]
    },
    {
     "name": "stdout",
     "output_type": "stream",
     "text": [
      "Entry(full_name=Name(first='анатолий', last='сморгонский', patronimic=None), birthday=date(d=None, m=None, y='1979'), birth_place=None)\n"
     ]
    },
    {
     "name": "stderr",
     "output_type": "stream",
     "text": [
      " 46%|████▌     | 4619/10000 [03:41<03:58, 22.60it/s]"
     ]
    },
    {
     "name": "stdout",
     "output_type": "stream",
     "text": [
      "Entry(full_name=Name(first='инна', last='лиснянская', patronimic=None), birthday=date(d=None, m=None, y='1928'), birth_place=Birth_place(place='Баку'))\n"
     ]
    },
    {
     "name": "stderr",
     "output_type": "stream",
     "text": [
      " 48%|████▊     | 4823/10000 [03:52<04:29, 19.17it/s]"
     ]
    },
    {
     "name": "stdout",
     "output_type": "stream",
     "text": [
      "Entry(full_name=Name(first='колин', last='дэвис', patronimic=None), birthday=date(d=None, m=None, y=None), birth_place=None)\n"
     ]
    },
    {
     "name": "stderr",
     "output_type": "stream",
     "text": [
      " 60%|██████    | 6011/10000 [04:50<03:04, 21.59it/s]"
     ]
    },
    {
     "name": "stdout",
     "output_type": "stream",
     "text": [
      "Entry(full_name=Name(first='эрик', last='хобсбаум', patronimic=None), birthday=date(d=None, m=None, y='1917'), birth_place=None)\n"
     ]
    },
    {
     "name": "stderr",
     "output_type": "stream",
     "text": [
      " 64%|██████▎   | 6373/10000 [05:08<03:07, 19.35it/s]"
     ]
    },
    {
     "name": "stdout",
     "output_type": "stream",
     "text": [
      "Entry(full_name=Name(first='татьяна', last='самойлов', patronimic=None), birthday=date(d='4', m='мая', y='1934'), birth_place=Birth_place(place='Ленинграде'))\n"
     ]
    },
    {
     "name": "stderr",
     "output_type": "stream",
     "text": [
      " 65%|██████▌   | 6528/10000 [05:15<02:57, 19.55it/s]"
     ]
    },
    {
     "name": "stdout",
     "output_type": "stream",
     "text": [
      "Entry(full_name=Name(first='владимир', last='высоцкий', patronimic=None), birthday=date(d=None, m=None, y='1938'), birth_place=Birth_place(place='Москве'))\n"
     ]
    },
    {
     "name": "stderr",
     "output_type": "stream",
     "text": [
      " 69%|██████▉   | 6886/10000 [05:33<02:21, 22.06it/s]"
     ]
    },
    {
     "name": "stdout",
     "output_type": "stream",
     "text": [
      "Entry(full_name=Name(first='мэри', last='дональдсон', patronimic=None), birthday=None, birth_place=Birth_place(place='Хобарте'))\n"
     ]
    },
    {
     "name": "stderr",
     "output_type": "stream",
     "text": [
      " 74%|███████▍  | 7375/10000 [05:56<01:57, 22.32it/s]"
     ]
    },
    {
     "name": "stdout",
     "output_type": "stream",
     "text": [
      "Entry(full_name=Name(first='борис', last='васильев', patronimic=None), birthday=date(d='21', m='мая', y='1924'), birth_place=Birth_place(place='Смоленске'))\n"
     ]
    },
    {
     "name": "stderr",
     "output_type": "stream",
     "text": [
      " 74%|███████▍  | 7401/10000 [05:57<01:51, 23.33it/s]"
     ]
    },
    {
     "name": "stdout",
     "output_type": "stream",
     "text": [
      "Entry(full_name=Name(first='расул', last='гамзатов', patronimic=None), birthday=date(d=None, m=None, y='1923'), birth_place=None)\n"
     ]
    },
    {
     "name": "stderr",
     "output_type": "stream",
     "text": [
      " 87%|████████▋ | 8690/10000 [07:00<00:52, 25.07it/s]"
     ]
    },
    {
     "name": "stdout",
     "output_type": "stream",
     "text": [
      "Entry(full_name=Name(first='евгений', last='гришковец', patronimic=None), birthday=date(d=None, m=None, y='1967'), birth_place=Birth_place(place='Кемерово'))\n"
     ]
    },
    {
     "name": "stderr",
     "output_type": "stream",
     "text": [
      " 87%|████████▋ | 8719/10000 [07:01<00:53, 23.99it/s]"
     ]
    },
    {
     "name": "stdout",
     "output_type": "stream",
     "text": [
      "Entry(full_name=Name(first='лев', last='дуров', patronimic=None), birthday=date(d='23', m='декабря', y='1931'), birth_place=None)\n"
     ]
    },
    {
     "name": "stderr",
     "output_type": "stream",
     "text": [
      " 88%|████████▊ | 8808/10000 [07:06<00:53, 22.44it/s]"
     ]
    },
    {
     "name": "stdout",
     "output_type": "stream",
     "text": [
      "Entry(full_name=Name(first='дэниел', last='эдельман', patronimic=None), birthday=None, birth_place=Birth_place(place='Нью'))\n"
     ]
    },
    {
     "name": "stderr",
     "output_type": "stream",
     "text": [
      " 89%|████████▉ | 8927/10000 [07:12<00:48, 22.06it/s]"
     ]
    },
    {
     "name": "stdout",
     "output_type": "stream",
     "text": [
      "Entry(full_name=Name(first='зинаида', last='серебрякова', patronimic=None), birthday=date(d='28', m='июня', y='1913'), birth_place=Birth_place(place='Царском'))\n"
     ]
    },
    {
     "name": "stderr",
     "output_type": "stream",
     "text": [
      " 92%|█████████▏| 9171/10000 [07:24<00:37, 22.29it/s]"
     ]
    },
    {
     "name": "stdout",
     "output_type": "stream",
     "text": [
      "Entry(full_name=Name(first='игорь', last='кваша', patronimic=None), birthday=date(d=None, m=None, y='1933'), birth_place=Birth_place(place='Москве'))\n"
     ]
    },
    {
     "name": "stderr",
     "output_type": "stream",
     "text": [
      " 93%|█████████▎| 9253/10000 [07:29<00:32, 22.98it/s]"
     ]
    },
    {
     "name": "stdout",
     "output_type": "stream",
     "text": [
      "Entry(full_name=Name(first='полина', last='жеребцов', patronimic=None), birthday=date(d=None, m=None, y='1985'), birth_place=Birth_place(place='Грозном'))\n"
     ]
    },
    {
     "name": "stderr",
     "output_type": "stream",
     "text": [
      " 93%|█████████▎| 9306/10000 [07:31<00:31, 21.86it/s]"
     ]
    },
    {
     "name": "stdout",
     "output_type": "stream",
     "text": [
      "Entry(full_name=Name(first='юрий', last='трофимов', patronimic=None), birthday=date(d=None, m=None, y='1940'), birth_place=None)\n"
     ]
    },
    {
     "name": "stderr",
     "output_type": "stream",
     "text": [
      " 98%|█████████▊| 9791/10000 [07:55<00:09, 22.18it/s]"
     ]
    },
    {
     "name": "stdout",
     "output_type": "stream",
     "text": [
      "Entry(full_name=Name(first='в', last='брак', patronimic=None), birthday=None, birth_place=None)\n"
     ]
    },
    {
     "name": "stderr",
     "output_type": "stream",
     "text": [
      " 99%|█████████▊| 9862/10000 [07:59<00:07, 18.07it/s]"
     ]
    },
    {
     "name": "stdout",
     "output_type": "stream",
     "text": [
      "Entry(full_name=Name(first='алексей', last='ремизов', patronimic=None), birthday=date(d=None, m=None, y='1877'), birth_place=Birth_place(place='Москве'))\n"
     ]
    },
    {
     "name": "stderr",
     "output_type": "stream",
     "text": [
      "100%|██████████| 10000/10000 [08:05<00:00, 20.58it/s]\n"
     ]
    }
   ],
   "source": [
    "from tqdm import tqdm \n",
    "\n",
    "for text in tqdm(texts, disable=False):\n",
    "    try:\n",
    "        for match in parser.findall(text.text):\n",
    "         print(match.fact)\n",
    "    except:\n",
    "       # empty\n",
    "       pass"
   ]
  }
 ],
 "metadata": {
  "kernelspec": {
   "display_name": "Python 3",
   "language": "python",
   "name": "python3"
  },
  "language_info": {
   "codemirror_mode": {
    "name": "ipython",
    "version": 3
   },
   "file_extension": ".py",
   "mimetype": "text/x-python",
   "name": "python",
   "nbconvert_exporter": "python",
   "pygments_lexer": "ipython3",
   "version": "3.11.5"
  }
 },
 "nbformat": 4,
 "nbformat_minor": 2
}
